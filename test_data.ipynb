{
 "metadata": {
  "language_info": {
   "codemirror_mode": {
    "name": "ipython",
    "version": 3
   },
   "file_extension": ".py",
   "mimetype": "text/x-python",
   "name": "python",
   "nbconvert_exporter": "python",
   "pygments_lexer": "ipython3",
   "version": "3.8.3-final"
  },
  "orig_nbformat": 2,
  "kernelspec": {
   "name": "python3",
   "display_name": "Python 3"
  }
 },
 "nbformat": 4,
 "nbformat_minor": 2,
 "cells": [
  {
   "cell_type": "code",
   "execution_count": 5,
   "metadata": {
    "tags": []
   },
   "outputs": [
    {
     "output_type": "stream",
     "name": "stdout",
     "text": "using cached model\n"
    }
   ],
   "source": [
    "from gluonnlp.data import SentencepieceTokenizer\n",
    "from kobert.utils import get_tokenizer\n",
    "import pandas as pd\n",
    "\n",
    "df = pd.read_csv('./data/ChatBotData.csv', header=0, encoding='utf-8')\n",
    "sp = SentencepieceTokenizer(get_tokenizer())"
   ]
  },
  {
   "cell_type": "code",
   "execution_count": 11,
   "metadata": {
    "tags": []
   },
   "outputs": [
    {
     "output_type": "stream",
     "name": "stdout",
     "text": "['▁안', '녕', '하세요']\n"
    }
   ],
   "source": [
    "print(sp('안녕하세요'))"
   ]
  },
  {
   "cell_type": "code",
   "execution_count": 12,
   "metadata": {},
   "outputs": [
    {
     "output_type": "execute_result",
     "data": {
      "text/plain": "                             Q                         A  label\n0                       12시 땡!                하루가 또 가네요.      0\n1                  1지망 학교 떨어졌어                 위로해 드립니다.      0\n2                 3박4일 놀러가고 싶다               여행은 언제나 좋죠.      0\n3              3박4일 정도 놀러가고 싶다               여행은 언제나 좋죠.      0\n4                      PPL 심하네                눈살이 찌푸려지죠.      0\n...                        ...                       ...    ...\n11818           훔쳐보는 것도 눈치 보임.        티가 나니까 눈치가 보이는 거죠!      2\n11819           훔쳐보는 것도 눈치 보임.             훔쳐보는 거 티나나봐요.      2\n11820              흑기사 해주는 짝남.                    설렜겠어요.      2\n11821  힘든 연애 좋은 연애라는게 무슨 차이일까?  잘 헤어질 수 있는 사이 여부인 거 같아요.      2\n11822               힘들어서 결혼할까봐        도피성 결혼은 하지 않길 바라요.      2\n\n[11823 rows x 3 columns]",
      "text/html": "<div>\n<style scoped>\n    .dataframe tbody tr th:only-of-type {\n        vertical-align: middle;\n    }\n\n    .dataframe tbody tr th {\n        vertical-align: top;\n    }\n\n    .dataframe thead th {\n        text-align: right;\n    }\n</style>\n<table border=\"1\" class=\"dataframe\">\n  <thead>\n    <tr style=\"text-align: right;\">\n      <th></th>\n      <th>Q</th>\n      <th>A</th>\n      <th>label</th>\n    </tr>\n  </thead>\n  <tbody>\n    <tr>\n      <th>0</th>\n      <td>12시 땡!</td>\n      <td>하루가 또 가네요.</td>\n      <td>0</td>\n    </tr>\n    <tr>\n      <th>1</th>\n      <td>1지망 학교 떨어졌어</td>\n      <td>위로해 드립니다.</td>\n      <td>0</td>\n    </tr>\n    <tr>\n      <th>2</th>\n      <td>3박4일 놀러가고 싶다</td>\n      <td>여행은 언제나 좋죠.</td>\n      <td>0</td>\n    </tr>\n    <tr>\n      <th>3</th>\n      <td>3박4일 정도 놀러가고 싶다</td>\n      <td>여행은 언제나 좋죠.</td>\n      <td>0</td>\n    </tr>\n    <tr>\n      <th>4</th>\n      <td>PPL 심하네</td>\n      <td>눈살이 찌푸려지죠.</td>\n      <td>0</td>\n    </tr>\n    <tr>\n      <th>...</th>\n      <td>...</td>\n      <td>...</td>\n      <td>...</td>\n    </tr>\n    <tr>\n      <th>11818</th>\n      <td>훔쳐보는 것도 눈치 보임.</td>\n      <td>티가 나니까 눈치가 보이는 거죠!</td>\n      <td>2</td>\n    </tr>\n    <tr>\n      <th>11819</th>\n      <td>훔쳐보는 것도 눈치 보임.</td>\n      <td>훔쳐보는 거 티나나봐요.</td>\n      <td>2</td>\n    </tr>\n    <tr>\n      <th>11820</th>\n      <td>흑기사 해주는 짝남.</td>\n      <td>설렜겠어요.</td>\n      <td>2</td>\n    </tr>\n    <tr>\n      <th>11821</th>\n      <td>힘든 연애 좋은 연애라는게 무슨 차이일까?</td>\n      <td>잘 헤어질 수 있는 사이 여부인 거 같아요.</td>\n      <td>2</td>\n    </tr>\n    <tr>\n      <th>11822</th>\n      <td>힘들어서 결혼할까봐</td>\n      <td>도피성 결혼은 하지 않길 바라요.</td>\n      <td>2</td>\n    </tr>\n  </tbody>\n</table>\n<p>11823 rows × 3 columns</p>\n</div>"
     },
     "metadata": {},
     "execution_count": 12
    }
   ],
   "source": [
    "df"
   ]
  },
  {
   "cell_type": "code",
   "execution_count": 19,
   "metadata": {},
   "outputs": [
    {
     "output_type": "execute_result",
     "data": {
      "text/plain": "['▁SNS', '보', '면', '▁나', '만', '▁빼', '고', '▁다', '▁행복', '해', '보', '여']"
     },
     "metadata": {},
     "execution_count": 19
    }
   ],
   "source": [
    "sp(df['Q'][10])"
   ]
  },
  {
   "cell_type": "code",
   "execution_count": 41,
   "metadata": {},
   "outputs": [],
   "source": [
    "Q_len = [len(sp(df['Q'][i])) for i in range(len(df))]\n",
    "A_len = [len(sp(df['A'][i])) for i in range(len(df))]"
   ]
  },
  {
   "cell_type": "code",
   "execution_count": 42,
   "metadata": {},
   "outputs": [],
   "source": [
    "import numpy as np\n",
    "q_len=np.array(Q_len)\n",
    "a_len=np.array(A_len)"
   ]
  },
  {
   "cell_type": "code",
   "execution_count": 46,
   "metadata": {},
   "outputs": [
    {
     "output_type": "execute_result",
     "data": {
      "text/plain": "(7.877103949928106, 3.5004432005037738, 9.236319039160957, 3.56028214458449)"
     },
     "metadata": {},
     "execution_count": 46
    }
   ],
   "source": [
    "q_len.mean(), q_len.std(), a_len.mean(), a_len.std()"
   ]
  },
  {
   "cell_type": "code",
   "execution_count": 39,
   "metadata": {},
   "outputs": [
    {
     "output_type": "execute_result",
     "data": {
      "text/plain": "(30, 1, 41, 1)"
     },
     "metadata": {},
     "execution_count": 39
    }
   ],
   "source": [
    "q_len.max(), q_len.min(), a_len.max(), a_len.min()"
   ]
  },
  {
   "cell_type": "code",
   "execution_count": 50,
   "metadata": {
    "tags": []
   },
   "outputs": [
    {
     "output_type": "stream",
     "name": "stdout",
     "text": "['▁', '짝', '남', '▁알', '바', '▁그', '만', '둬', '서', '▁이제', '▁못', '만', '나', '는데', '▁단', '톡', '방', '▁친구', '추', '가', '▁해서', '▁', '갠', '톡', '하면', '▁', '별로', '인', '가', '?']\n['▁', '썸', '▁탈', '▁때는', '▁특히', '▁속', '상', '한', '▁것', '▁같아', '요', '.', '▁내', '▁', '맘', '▁같', '지', '▁않고', '▁아직', '▁내', '▁사람이', '▁아니', '니까', '요', '.', '▁', '그래', '도', '▁그', '▁순간', '을', '▁', '즐', '겨', '보는', '▁건', '▁어', '떨', '까', '요', '?']\n"
    }
   ],
   "source": [
    "# print longest question\n",
    "print(sp(df['Q'][Q_len.index(q_len.max())]))\n",
    "# print longest answer\n",
    "print(sp(df['A'][A_len.index(a_len.max())]))"
   ]
  },
  {
   "cell_type": "code",
   "execution_count": 65,
   "metadata": {},
   "outputs": [
    {
     "output_type": "execute_result",
     "data": {
      "text/plain": "(8, 41)"
     },
     "metadata": {},
     "execution_count": 65
    }
   ],
   "source": [
    "max_l = 25\n",
    "len([l for l in Q_len if l > max_l]), len([l for l in A_len if l > max_l])"
   ]
  },
  {
   "cell_type": "code",
   "execution_count": null,
   "metadata": {},
   "outputs": [],
   "source": []
  }
 ]
}